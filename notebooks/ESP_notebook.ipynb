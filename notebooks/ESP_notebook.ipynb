{
 "cells": [
  {
   "cell_type": "code",
   "execution_count": 1,
   "metadata": {},
   "outputs": [],
   "source": [
    "import sys\n",
    "\n",
    "sys.path.append(\"C:/Users/A.C.EA/Documents/Fylix Internship 2023 - 2024/CQM-TSP/\")"
   ]
  },
  {
   "cell_type": "markdown",
   "metadata": {},
   "source": [
    "## Quantum Implementation of Shortest Path Finding Problem : Optimizing QCBO (Quadratic Constrained Binary Optimization) using Quantum Annealing\n",
    "\n",
    "### Getting Started\n",
    "\n",
    "This notebook is dedicated to a QUBO implementation of the Shortest Path Finding Problem using D-Wave's Ocean suite package. The model is implemented as a Constrained Quadratic Model (CQM). Shortest Path Finding Algorithms are some of the most widely utilized algorithms used in the logistcs industry. These algorithms are used to plan paths for going from one place to another using the lowest cost possible. Some of the well-known applications that utilize these algorithms are Waze, and Google Maps. Usually, the algorithm chosen for the Shortest Path Finding Problem is Dijkstra's algorithm, which we will talk about in a subsequent notebook. Today, we are going to implement a LP formulation of the shortest path finding problem. The algorithm is described as follows :\n",
    "\n",
    "1) Decision variables : Define the binary variables for visiting the nodes (i.e. $X$<sub>12</sub> = 1 means going from node 1 to node 2). For N nodes, there will be $N$ x $N-1$ binary variables.\n",
    "\n",
    "2) Objective function : Define the objective (minimize the overall distance $\\sum_{i=1}^{N}$ $\\sum_{j!=i, j=1}^{N}$ $X$<sub>ij</sub> $C$<sub>ij</sub> where $C$<sub>ij</sub> is the distance from i to j ($C$<sub>ij</sub> is not necessarily equal to $C$<sub>ji</sub> as in real world problems, the distances are non-euclidean and depend on roads)) \n",
    "\n",
    "3)  Constraints : Define the constraints \n",
    "    - (Visit each node once at most) $X_{ij} \\ge 0$\n",
    "    - (Satisfy the boundary condition)) $\\sum_{i} X_{ij}$ - $\\sum_{i} X_{ji}$ for all $j$, where if $j == s$, set the constraint to 1, if $j == t$, set the constraint to -1, and 0 otherwise. "
   ]
  },
  {
   "cell_type": "code",
   "execution_count": 17,
   "metadata": {},
   "outputs": [
    {
     "name": "stdout",
     "output_type": "stream",
     "text": [
      "All packages imported successfully!\n"
     ]
    }
   ],
   "source": [
    "import os\n",
    "\n",
    "from dimod.serialization.format import Formatter\n",
    "\n",
    "from collections.abc import Iterable\n",
    "os.chdir('..')\n",
    "import dwave\n",
    "from dimod import ConstrainedQuadraticModel, Binary, quicksum\n",
    "import numpy as np\n",
    "import re\n",
    "from matplotlib import pyplot as plt\n",
    "\n",
    "from cqm.data import Graph\n",
    "from cqm.solver import CQM\n",
    "from cqm.backend import CQMBackend\n",
    "\n",
    "print(\"All packages imported successfully!\")"
   ]
  },
  {
   "cell_type": "markdown",
   "metadata": {},
   "source": [
    "We will initialize a CQM instance for creating the QCBO model."
   ]
  },
  {
   "cell_type": "code",
   "execution_count": 3,
   "metadata": {},
   "outputs": [],
   "source": [
    "# Initializing the CQM\n",
    "cqm = ConstrainedQuadraticModel()"
   ]
  },
  {
   "cell_type": "markdown",
   "metadata": {},
   "source": [
    "We will initialize the objective for the QCBO model."
   ]
  },
  {
   "cell_type": "code",
   "execution_count": 4,
   "metadata": {},
   "outputs": [],
   "source": [
    "# Initializing the objective\n",
    "objective = 0"
   ]
  },
  {
   "cell_type": "markdown",
   "metadata": {},
   "source": [
    "We will initialize the constraints for the QCBO model. There will be three constraints :\n",
    "\n",
    "- Visit each node at most once\n",
    "- Satisfy the boundary condition"
   ]
  },
  {
   "cell_type": "code",
   "execution_count": 5,
   "metadata": {},
   "outputs": [],
   "source": [
    "# Initializing the constraints\n",
    "constraint_1 = 0\n",
    "constraint_2 = 0"
   ]
  },
  {
   "cell_type": "markdown",
   "metadata": {},
   "source": [
    "We will define the list of nodes' coordinates (this step is not necessary if you already have the distance matrix)."
   ]
  },
  {
   "cell_type": "code",
   "execution_count": 7,
   "metadata": {},
   "outputs": [],
   "source": [
    "# List of coordinates\n",
    "coordinates = np.array([[1, 1], [2, 3], [3, 2], [2, 4], [1, 5], [3, 6]])   # 6 nodes\n",
    "\n",
    "# Define the graph\n",
    "graph = Graph(coordinates=coordinates)\n",
    "\n",
    "# Source node\n",
    "s = 4\n",
    "\n",
    "# Destination node\n",
    "t = 1\n",
    "\n",
    "# Number of nodes\n",
    "n = len(coordinates)\n",
    "\n",
    "x_vals = coordinates[:, 0]\n",
    "y_vals = coordinates[:, 1]"
   ]
  },
  {
   "cell_type": "markdown",
   "metadata": {},
   "source": [
    "We will generate the distance matrix from the list of coordinates using a helper function (in this example we are using a Euclidean distance calculator)."
   ]
  },
  {
   "cell_type": "code",
   "execution_count": 8,
   "metadata": {},
   "outputs": [
    {
     "name": "stdout",
     "output_type": "stream",
     "text": [
      "[[0.0, 2.23606797749979, 2.23606797749979, 3.1622776601683795, 4.0, 5.385164807134504], [2.23606797749979, 0.0, 1.4142135623730951, 1.0, 2.23606797749979, 3.1622776601683795], [2.23606797749979, 1.4142135623730951, 0.0, 2.23606797749979, 3.605551275463989, 4.0], [3.1622776601683795, 1.0, 2.23606797749979, 0.0, 1.4142135623730951, 2.23606797749979], [4.0, 2.23606797749979, 3.605551275463989, 1.4142135623730951, 0.0, 2.23606797749979], [5.385164807134504, 3.1622776601683795, 4.0, 2.23606797749979, 2.23606797749979, 0.0]]\n"
     ]
    }
   ],
   "source": [
    "# Define the distance matrix\n",
    "distance_matrix = graph.calculate_distance_matrix()\n",
    "\n",
    "print(distance_matrix)"
   ]
  },
  {
   "cell_type": "markdown",
   "metadata": {},
   "source": [
    "We will define the binary variables and add them to our objective function alongside their costs based on the distance matrix. Something to note here is that the $X_{ij}$ are defined based on the available edges, not based on just the number of nodes. For instance, we may not have an edge from node 1 to 3, so we wouldn't have a $X_{13}$. For simplicity, we will assume the graph is fully connected. We will later show how to do this with respect to the specific edges."
   ]
  },
  {
   "cell_type": "code",
   "execution_count": 9,
   "metadata": {},
   "outputs": [
    {
     "name": "stdout",
     "output_type": "stream",
     "text": [
      "[[0 BinaryQuadraticModel({'X_1_2': 1.0}, {}, 0.0, 'BINARY')\n",
      "  BinaryQuadraticModel({'X_1_3': 1.0}, {}, 0.0, 'BINARY')\n",
      "  BinaryQuadraticModel({'X_1_4': 1.0}, {}, 0.0, 'BINARY')\n",
      "  BinaryQuadraticModel({'X_1_5': 1.0}, {}, 0.0, 'BINARY')\n",
      "  BinaryQuadraticModel({'X_1_6': 1.0}, {}, 0.0, 'BINARY')]\n",
      " [BinaryQuadraticModel({'X_2_1': 1.0}, {}, 0.0, 'BINARY') 0\n",
      "  BinaryQuadraticModel({'X_2_3': 1.0}, {}, 0.0, 'BINARY')\n",
      "  BinaryQuadraticModel({'X_2_4': 1.0}, {}, 0.0, 'BINARY')\n",
      "  BinaryQuadraticModel({'X_2_5': 1.0}, {}, 0.0, 'BINARY')\n",
      "  BinaryQuadraticModel({'X_2_6': 1.0}, {}, 0.0, 'BINARY')]\n",
      " [BinaryQuadraticModel({'X_3_1': 1.0}, {}, 0.0, 'BINARY')\n",
      "  BinaryQuadraticModel({'X_3_2': 1.0}, {}, 0.0, 'BINARY') 0\n",
      "  BinaryQuadraticModel({'X_3_4': 1.0}, {}, 0.0, 'BINARY')\n",
      "  BinaryQuadraticModel({'X_3_5': 1.0}, {}, 0.0, 'BINARY')\n",
      "  BinaryQuadraticModel({'X_3_6': 1.0}, {}, 0.0, 'BINARY')]\n",
      " [BinaryQuadraticModel({'X_4_1': 1.0}, {}, 0.0, 'BINARY')\n",
      "  BinaryQuadraticModel({'X_4_2': 1.0}, {}, 0.0, 'BINARY')\n",
      "  BinaryQuadraticModel({'X_4_3': 1.0}, {}, 0.0, 'BINARY') 0\n",
      "  BinaryQuadraticModel({'X_4_5': 1.0}, {}, 0.0, 'BINARY')\n",
      "  BinaryQuadraticModel({'X_4_6': 1.0}, {}, 0.0, 'BINARY')]\n",
      " [BinaryQuadraticModel({'X_5_1': 1.0}, {}, 0.0, 'BINARY')\n",
      "  BinaryQuadraticModel({'X_5_2': 1.0}, {}, 0.0, 'BINARY')\n",
      "  BinaryQuadraticModel({'X_5_3': 1.0}, {}, 0.0, 'BINARY')\n",
      "  BinaryQuadraticModel({'X_5_4': 1.0}, {}, 0.0, 'BINARY') 0\n",
      "  BinaryQuadraticModel({'X_5_6': 1.0}, {}, 0.0, 'BINARY')]\n",
      " [BinaryQuadraticModel({'X_6_1': 1.0}, {}, 0.0, 'BINARY')\n",
      "  BinaryQuadraticModel({'X_6_2': 1.0}, {}, 0.0, 'BINARY')\n",
      "  BinaryQuadraticModel({'X_6_3': 1.0}, {}, 0.0, 'BINARY')\n",
      "  BinaryQuadraticModel({'X_6_4': 1.0}, {}, 0.0, 'BINARY')\n",
      "  BinaryQuadraticModel({'X_6_5': 1.0}, {}, 0.0, 'BINARY') 0]]\n"
     ]
    }
   ],
   "source": [
    "# Initializing the decision var\n",
    "X = np.array([[Binary(f\"X_{i+1}_{j+1}\") if i!=j else 0 for j in range(n)] for i in range(n)])\n",
    "\n",
    "print(X)"
   ]
  },
  {
   "cell_type": "code",
   "execution_count": 10,
   "metadata": {},
   "outputs": [],
   "source": [
    "# Defining objective\n",
    "objective = quicksum(distance_matrix[i][j] * X[i][j] for i in range(n) for j in range(n))\n",
    "cqm.set_objective(objective)"
   ]
  },
  {
   "cell_type": "code",
   "execution_count": 11,
   "metadata": {},
   "outputs": [
    {
     "name": "stdout",
     "output_type": "stream",
     "text": [
      "Constraint 1-1\n",
      "Constraint 1-2\n",
      "Constraint 1-3\n",
      "Constraint 1-4\n",
      "Constraint 1-5\n",
      "Constraint 1-6\n"
     ]
    }
   ],
   "source": [
    "# Defining the constraints\n",
    "for i in range(n):\n",
    "\tconstraint_1 = quicksum(X[i][j] for j in range(n)) - quicksum(X[j][i] for j in range(n))\n",
    "\tprint(f\"Constraint 1-{i+1}\")\n",
    "\tif i == s:\n",
    "\t\tcqm.add_constraint(constraint_1 == 1, label=f\"constraint 1-{i+1}\")\n",
    "\telif i == t:\n",
    "\t\tcqm.add_constraint(constraint_1 == -1, label=f\"constraint 1-{i+1}\")\n",
    "\telse:\n",
    "\t\tcqm.add_constraint(constraint_1 == 0, label=f\"constraint 1-{i+1}\")"
   ]
  },
  {
   "cell_type": "code",
   "execution_count": 10,
   "metadata": {},
   "outputs": [
    {
     "name": "stdout",
     "output_type": "stream",
     "text": [
      "Constraint 2-11\n",
      "Constraint 2-12\n",
      "Constraint 2-13\n",
      "Constraint 2-14\n",
      "Constraint 2-15\n",
      "Constraint 2-16\n",
      "Constraint 2-21\n",
      "Constraint 2-22\n",
      "Constraint 2-23\n",
      "Constraint 2-24\n",
      "Constraint 2-25\n",
      "Constraint 2-26\n",
      "Constraint 2-31\n",
      "Constraint 2-32\n",
      "Constraint 2-33\n",
      "Constraint 2-34\n",
      "Constraint 2-35\n",
      "Constraint 2-36\n",
      "Constraint 2-41\n",
      "Constraint 2-42\n",
      "Constraint 2-43\n",
      "Constraint 2-44\n",
      "Constraint 2-45\n",
      "Constraint 2-46\n",
      "Constraint 2-51\n",
      "Constraint 2-52\n",
      "Constraint 2-53\n",
      "Constraint 2-54\n",
      "Constraint 2-55\n",
      "Constraint 2-56\n",
      "Constraint 2-61\n",
      "Constraint 2-62\n",
      "Constraint 2-63\n",
      "Constraint 2-64\n",
      "Constraint 2-65\n",
      "Constraint 2-66\n"
     ]
    }
   ],
   "source": [
    "for i in range(n):\n",
    "\tfor j in range(n):\n",
    "\t\tprint(f\"Constraint 2-{i+1}{j+1}\")\n",
    "\t\tif X[i][j] == 0:\n",
    "\t\t\tpass\n",
    "\t\telse:\n",
    "\t\t\tcqm.add_constraint(X[i][j]>= 0, label=f\"constraint 2-{i+1}{j+1}\")"
   ]
  },
  {
   "cell_type": "markdown",
   "metadata": {},
   "source": [
    "We now run the model."
   ]
  },
  {
   "cell_type": "code",
   "execution_count": 12,
   "metadata": {},
   "outputs": [],
   "source": [
    "# Define token\n",
    "token = 'DEV-6dad5ce3bb8bba232cc09ef8c515e6563a2fe14e'\n",
    "\n",
    "# Running the sampler to get the sample set\n",
    "cqm_sampler = CQMBackend(token=token, time=30, label='CQM-ESP')\n",
    "sampleset = cqm_sampler(problem=cqm)"
   ]
  },
  {
   "cell_type": "code",
   "execution_count": 13,
   "metadata": {
    "tags": [
     "outputPrepend"
    ]
   },
   "outputs": [
    {
     "name": "stdout",
     "output_type": "stream",
     "text": [
      "constraint 1-1 X_1_2 + X_1_3 + X_1_4 + X_1_5 + X_1_6 - X_2_1 - X_3_1 - X_4_1 - X_5_1 - X_6_1 == 0.0\n",
      "constraint 1-2 X_2_1 + X_2_3 + X_2_4 + X_2_5 + X_2_6 - X_1_2 - X_3_2 - X_4_2 - X_5_2 - X_6_2 == -1.0\n",
      "constraint 1-3 X_3_1 + X_3_2 + X_3_4 + X_3_5 + X_3_6 - X_1_3 - X_2_3 - X_4_3 - X_5_3 - X_6_3 == 0.0\n",
      "constraint 1-4 X_4_1 + X_4_2 + X_4_3 + X_4_5 + X_4_6 - X_1_4 - X_2_4 - X_3_4 - X_5_4 - X_6_4 == 0.0\n",
      "constraint 1-5 X_5_1 + X_5_2 + X_5_3 + X_5_4 + X_5_6 - X_1_5 - X_2_5 - X_3_5 - X_4_5 - X_6_5 == 1.0\n",
      "constraint 1-6 X_6_1 + X_6_2 + X_6_3 + X_6_4 + X_6_5 - X_1_6 - X_2_6 - X_3_6 - X_4_6 - X_5_6 == 0.0\n",
      "    X_1_2 X_1_3 X_1_4 X_1_5 X_1_6 X_2_1 X_2_3 X_2_4 X_2_5 X_2_6 X_3_1 X_3_2 X_3_4 X_3_5 X_3_6 X_4_1 X_4_2 X_4_3 X_4_5 X_4_6 X_5_1 X_5_2 X_5_3 X_5_4 X_5_6 X_6_1 X_6_2 X_6_3 X_6_4 X_6_5   energy num_oc. is_sat. is_fea.\n",
      "1     0.0   0.0   0.0   0.0   0.0   0.0   0.0   0.0   0.0   0.0   0.0   0.0   0.0   0.0   0.0   0.0   0.0   0.0   0.0   0.0   0.0   1.0   0.0   0.0   0.0   0.0   0.0   0.0   0.0   0.0 2.236068       1 arra...    True\n",
      "2     0.0   0.0   0.0   0.0   0.0   0.0   0.0   0.0   0.0   0.0   0.0   0.0   0.0   0.0   0.0   0.0   0.0   0.0   0.0   0.0   0.0   1.0   0.0   0.0   0.0   0.0   0.0   0.0   0.0   0.0 2.236068       1 arra...    True\n",
      "4     0.0   0.0   0.0   0.0   0.0   0.0   0.0   0.0   0.0   0.0   0.0   0.0   0.0   0.0   0.0   0.0   0.0   0.0   0.0   0.0   0.0   1.0   0.0   0.0   0.0   0.0   0.0   0.0   0.0   0.0 2.236068       1 arra...    True\n",
      "5     0.0   0.0   0.0   0.0   0.0   0.0   0.0   0.0   0.0   0.0   0.0   0.0   0.0   0.0   0.0   0.0   0.0   0.0   0.0   0.0   0.0   1.0   0.0   0.0   0.0   0.0   0.0   0.0   0.0   0.0 2.236068       1 arra...    True\n",
      "6     0.0   0.0   0.0   0.0   0.0   0.0   0.0   0.0   0.0   0.0   0.0   0.0   0.0   0.0   0.0   0.0   0.0   0.0   0.0   0.0   0.0   1.0   0.0   0.0   0.0   0.0   0.0   0.0   0.0   0.0 2.236068       1 arra...    True\n",
      "7     0.0   0.0   0.0   0.0   0.0   0.0   0.0   0.0   0.0   0.0   0.0   0.0   0.0   0.0   0.0   0.0   0.0   0.0   0.0   0.0   0.0   1.0   0.0   0.0   0.0   0.0   0.0   0.0   0.0   0.0 2.236068       1 arra...    True\n",
      "8     0.0   0.0   0.0   0.0   0.0   0.0   0.0   0.0   0.0   0.0   0.0   0.0   0.0   0.0   0.0   0.0   0.0   0.0   0.0   0.0   0.0   1.0   0.0   0.0   0.0   0.0   0.0   0.0   0.0   0.0 2.236068       1 arra...    True\n",
      "10    0.0   0.0   0.0   0.0   0.0   0.0   0.0   0.0   0.0   0.0   0.0   0.0   0.0   0.0   0.0   0.0   0.0   0.0   0.0   0.0   0.0   1.0   0.0   0.0   0.0   0.0   0.0   0.0   0.0   0.0 2.236068       1 arra...    True\n",
      "11    0.0   0.0   0.0   0.0   0.0   0.0   0.0   0.0   0.0   0.0   0.0   0.0   0.0   0.0   0.0   0.0   0.0   0.0   0.0   0.0   0.0   1.0   0.0   0.0   0.0   0.0   0.0   0.0   0.0   0.0 2.236068       1 arra...    True\n",
      "12    0.0   0.0   0.0   0.0   0.0   0.0   0.0   0.0   0.0   0.0   0.0   0.0   0.0   0.0   0.0   0.0   0.0   0.0   0.0   0.0   0.0   1.0   0.0   0.0   0.0   0.0   0.0   0.0   0.0   0.0 2.236068       1 arra...    True\n",
      "13    0.0   0.0   0.0   0.0   0.0   0.0   0.0   0.0   0.0   0.0   0.0   0.0   0.0   0.0   0.0   0.0   0.0   0.0   0.0   0.0   0.0   1.0   0.0   0.0   0.0   0.0   0.0   0.0   0.0   0.0 2.236068       1 arra...    True\n",
      "14    0.0   0.0   0.0   0.0   0.0   0.0   0.0   0.0   0.0   0.0   0.0   0.0   0.0   0.0   0.0   0.0   0.0   0.0   0.0   0.0   0.0   1.0   0.0   0.0   0.0   0.0   0.0   0.0   0.0   0.0 2.236068       1 arra...    True\n",
      "15    0.0   0.0   0.0   0.0   0.0   0.0   0.0   0.0   0.0   0.0   0.0   0.0   0.0   0.0   0.0   0.0   0.0   0.0   0.0   0.0   0.0   1.0   0.0   0.0   0.0   0.0   0.0   0.0   0.0   0.0 2.236068       1 arra...    True\n",
      "16    0.0   0.0   0.0   0.0   0.0   0.0   0.0   0.0   0.0   0.0   0.0   0.0   0.0   0.0   0.0   0.0   0.0   0.0   0.0   0.0   0.0   1.0   0.0   0.0   0.0   0.0   0.0   0.0   0.0   0.0 2.236068       1 arra...    True\n",
      "17    0.0   0.0   0.0   0.0   0.0   0.0   0.0   0.0   0.0   0.0   0.0   0.0   0.0   0.0   0.0   0.0   0.0   0.0   0.0   0.0   0.0   1.0   0.0   0.0   0.0   0.0   0.0   0.0   0.0   0.0 2.236068       1 arra...    True\n",
      "18    0.0   0.0   0.0   0.0   0.0   0.0   0.0   0.0   0.0   0.0   0.0   0.0   0.0   0.0   0.0   0.0   0.0   0.0   0.0   0.0   0.0   1.0   0.0   0.0   0.0   0.0   0.0   0.0   0.0   0.0 2.236068       1 arra...    True\n",
      "19    0.0   0.0   0.0   0.0   0.0   0.0   0.0   0.0   0.0   0.0   0.0   0.0   0.0   0.0   0.0   0.0   0.0   0.0   0.0   0.0   0.0   1.0   0.0   0.0   0.0   0.0   0.0   0.0   0.0   0.0 2.236068       1 arra...    True\n",
      "20    0.0   0.0   0.0   0.0   0.0   0.0   0.0   0.0   0.0   0.0   0.0   0.0   0.0   0.0   0.0   0.0   0.0   0.0   0.0   0.0   0.0   1.0   0.0   0.0   0.0   0.0   0.0   0.0   0.0   0.0 2.236068       1 arra...    True\n",
      "21    0.0   0.0   0.0   0.0   0.0   0.0   0.0   0.0   0.0   0.0   0.0   0.0   0.0   0.0   0.0   0.0   0.0   0.0   0.0   0.0   0.0   1.0   0.0   0.0   0.0   0.0   0.0   0.0   0.0   0.0 2.236068       1 arra...    True\n",
      "22    0.0   0.0   0.0   0.0   0.0   0.0   0.0   0.0   0.0   0.0   0.0   0.0   0.0   0.0   0.0   0.0   0.0   0.0   0.0   0.0   0.0   1.0   0.0   0.0   0.0   0.0   0.0   0.0   0.0   0.0 2.236068       1 arra...    True\n",
      "23    0.0   0.0   0.0   0.0   0.0   0.0   0.0   0.0   0.0   0.0   0.0   0.0   0.0   0.0   0.0   0.0   0.0   0.0   0.0   0.0   0.0   1.0   0.0   0.0   0.0   0.0   0.0   0.0   0.0   0.0 2.236068       1 arra...    True\n",
      "24    0.0   0.0   0.0   0.0   0.0   0.0   0.0   0.0   0.0   0.0   0.0   0.0   0.0   0.0   0.0   0.0   0.0   0.0   0.0   0.0   0.0   1.0   0.0   0.0   0.0   0.0   0.0   0.0   0.0   0.0 2.236068       1 arra...    True\n",
      "25    0.0   0.0   0.0   0.0   0.0   0.0   0.0   0.0   0.0   0.0   0.0   0.0   0.0   0.0   0.0   0.0   0.0   0.0   0.0   0.0   0.0   1.0   0.0   0.0   0.0   0.0   0.0   0.0   0.0   0.0 2.236068       1 arra...    True\n",
      "26    0.0   0.0   0.0   0.0   0.0   0.0   0.0   0.0   0.0   0.0   0.0   0.0   0.0   0.0   0.0   0.0   0.0   0.0   0.0   0.0   0.0   1.0   0.0   0.0   0.0   0.0   0.0   0.0   0.0   0.0 2.236068       1 arra...    True\n",
      "27    0.0   0.0   0.0   0.0   0.0   0.0   0.0   0.0   0.0   0.0   0.0   0.0   0.0   0.0   0.0   0.0   0.0   0.0   0.0   0.0   0.0   1.0   0.0   0.0   0.0   0.0   0.0   0.0   0.0   0.0 2.236068       1 arra...    True\n",
      "28    0.0   0.0   0.0   0.0   0.0   0.0   0.0   0.0   0.0   0.0   0.0   0.0   0.0   0.0   0.0   0.0   0.0   0.0   0.0   0.0   0.0   1.0   0.0   0.0   0.0   0.0   0.0   0.0   0.0   0.0 2.236068       1 arra...    True\n",
      "29    0.0   0.0   0.0   0.0   0.0   0.0   0.0   0.0   0.0   0.0   0.0   0.0   0.0   0.0   0.0   0.0   0.0   0.0   0.0   0.0   0.0   1.0   0.0   0.0   0.0   0.0   0.0   0.0   0.0   0.0 2.236068       1 arra...    True\n",
      "31    0.0   0.0   0.0   0.0   0.0   0.0   0.0   0.0   0.0   0.0   0.0   0.0   0.0   0.0   0.0   0.0   0.0   0.0   0.0   0.0   0.0   1.0   0.0   0.0   0.0   0.0   0.0   0.0   0.0   0.0 2.236068       1 arra...    True\n",
      "32    0.0   0.0   0.0   0.0   0.0   0.0   0.0   0.0   0.0   0.0   0.0   0.0   0.0   0.0   0.0   0.0   0.0   0.0   0.0   0.0   0.0   1.0   0.0   0.0   0.0   0.0   0.0   0.0   0.0   0.0 2.236068       1 arra...    True\n",
      "33    0.0   0.0   0.0   0.0   0.0   0.0   0.0   0.0   0.0   0.0   0.0   0.0   0.0   0.0   0.0   0.0   0.0   0.0   0.0   0.0   0.0   1.0   0.0   0.0   0.0   0.0   0.0   0.0   0.0   0.0 2.236068       1 arra...    True\n",
      "34    0.0   0.0   0.0   0.0   0.0   0.0   0.0   0.0   0.0   0.0   0.0   0.0   0.0   0.0   0.0   0.0   0.0   0.0   0.0   0.0   0.0   1.0   0.0   0.0   0.0   0.0   0.0   0.0   0.0   0.0 2.236068       1 arra...    True\n",
      "35    0.0   0.0   0.0   0.0   0.0   0.0   0.0   0.0   0.0   0.0   0.0   0.0   0.0   0.0   0.0   0.0   0.0   0.0   0.0   0.0   0.0   1.0   0.0   0.0   0.0   0.0   0.0   0.0   0.0   0.0 2.236068       1 arra...    True\n",
      "36    0.0   0.0   0.0   0.0   0.0   0.0   0.0   0.0   0.0   0.0   0.0   0.0   0.0   0.0   0.0   0.0   0.0   0.0   0.0   0.0   0.0   1.0   0.0   0.0   0.0   0.0   0.0   0.0   0.0   0.0 2.236068       1 arra...    True\n",
      "37    0.0   0.0   0.0   0.0   0.0   0.0   0.0   0.0   0.0   0.0   0.0   0.0   0.0   0.0   0.0   0.0   0.0   0.0   0.0   0.0   0.0   1.0   0.0   0.0   0.0   0.0   0.0   0.0   0.0   0.0 2.236068       1 arra...    True\n",
      "38    0.0   0.0   0.0   0.0   0.0   0.0   0.0   0.0   0.0   0.0   0.0   0.0   0.0   0.0   0.0   0.0   0.0   0.0   0.0   0.0   0.0   1.0   0.0   0.0   0.0   0.0   0.0   0.0   0.0   0.0 2.236068       1 arra...    True\n",
      "39    0.0   0.0   0.0   0.0   0.0   0.0   0.0   0.0   0.0   0.0   0.0   0.0   0.0   0.0   0.0   0.0   0.0   0.0   0.0   0.0   0.0   1.0   0.0   0.0   0.0   0.0   0.0   0.0   0.0   0.0 2.236068       1 arra...    True\n",
      "41    0.0   0.0   0.0   0.0   0.0   0.0   0.0   0.0   0.0   0.0   0.0   0.0   0.0   0.0   0.0   0.0   0.0   0.0   0.0   0.0   0.0   1.0   0.0   0.0   0.0   0.0   0.0   0.0   0.0   0.0 2.236068       1 arra...    True\n",
      "43    0.0   0.0   0.0   0.0   0.0   0.0   0.0   0.0   0.0   0.0   0.0   0.0   0.0   0.0   0.0   0.0   0.0   0.0   0.0   0.0   0.0   1.0   0.0   0.0   0.0   0.0   0.0   0.0   0.0   0.0 2.236068       1 arra...    True\n",
      "44    0.0   0.0   0.0   0.0   0.0   0.0   0.0   0.0   0.0   0.0   0.0   0.0   0.0   0.0   0.0   0.0   0.0   0.0   0.0   0.0   0.0   1.0   0.0   0.0   0.0   0.0   0.0   0.0   0.0   0.0 2.236068       1 arra...    True\n",
      "45    0.0   0.0   0.0   0.0   0.0   0.0   0.0   0.0   0.0   0.0   0.0   0.0   0.0   0.0   0.0   0.0   0.0   0.0   0.0   0.0   0.0   1.0   0.0   0.0   0.0   0.0   0.0   0.0   0.0   0.0 2.236068       1 arra...    True\n",
      "46    0.0   0.0   0.0   0.0   0.0   0.0   0.0   0.0   0.0   0.0   0.0   0.0   0.0   0.0   0.0   0.0   0.0   0.0   0.0   0.0   0.0   1.0   0.0   0.0   0.0   0.0   0.0   0.0   0.0   0.0 2.236068       1 arra...    True\n",
      "47    0.0   0.0   0.0   0.0   0.0   0.0   0.0   0.0   0.0   0.0   0.0   0.0   0.0   0.0   0.0   0.0   0.0   0.0   0.0   0.0   0.0   1.0   0.0   0.0   0.0   0.0   0.0   0.0   0.0   0.0 2.236068       1 arra...    True\n",
      "48    0.0   0.0   0.0   0.0   0.0   0.0   0.0   0.0   0.0   0.0   0.0   0.0   0.0   0.0   0.0   0.0   0.0   0.0   0.0   0.0   0.0   1.0   0.0   0.0   0.0   0.0   0.0   0.0   0.0   0.0 2.236068       1 arra...    True\n",
      "49    0.0   0.0   0.0   0.0   0.0   0.0   0.0   0.0   0.0   0.0   0.0   0.0   0.0   0.0   0.0   0.0   0.0   0.0   0.0   0.0   0.0   1.0   0.0   0.0   0.0   0.0   0.0   0.0   0.0   0.0 2.236068       1 arra...    True\n",
      "50    0.0   0.0   0.0   0.0   0.0   0.0   0.0   0.0   0.0   0.0   0.0   0.0   0.0   0.0   0.0   0.0   0.0   0.0   0.0   0.0   0.0   1.0   0.0   0.0   0.0   0.0   0.0   0.0   0.0   0.0 2.236068       1 arra...    True\n",
      "51    0.0   0.0   0.0   0.0   0.0   0.0   0.0   0.0   0.0   0.0   0.0   0.0   0.0   0.0   0.0   0.0   0.0   0.0   0.0   0.0   0.0   1.0   0.0   0.0   0.0   0.0   0.0   0.0   0.0   0.0 2.236068       1 arra...    True\n",
      "52    0.0   0.0   0.0   0.0   0.0   0.0   0.0   0.0   0.0   0.0   0.0   0.0   0.0   0.0   0.0   0.0   0.0   0.0   0.0   0.0   0.0   1.0   0.0   0.0   0.0   0.0   0.0   0.0   0.0   0.0 2.236068       1 arra...    True\n",
      "53    0.0   0.0   0.0   0.0   0.0   0.0   0.0   0.0   0.0   0.0   0.0   0.0   0.0   0.0   0.0   0.0   0.0   0.0   0.0   0.0   0.0   1.0   0.0   0.0   0.0   0.0   0.0   0.0   0.0   0.0 2.236068       1 arra...    True\n",
      "54    0.0   0.0   0.0   0.0   0.0   0.0   0.0   0.0   0.0   0.0   0.0   0.0   0.0   0.0   0.0   0.0   0.0   0.0   0.0   0.0   0.0   1.0   0.0   0.0   0.0   0.0   0.0   0.0   0.0   0.0 2.236068       1 arra...    True\n",
      "55    0.0   0.0   0.0   0.0   0.0   0.0   0.0   0.0   0.0   0.0   0.0   0.0   0.0   0.0   0.0   0.0   0.0   0.0   0.0   0.0   0.0   1.0   0.0   0.0   0.0   0.0   0.0   0.0   0.0   0.0 2.236068       1 arra...    True\n",
      "56    0.0   0.0   0.0   0.0   0.0   0.0   0.0   0.0   0.0   0.0   0.0   0.0   0.0   0.0   0.0   0.0   0.0   0.0   0.0   0.0   0.0   1.0   0.0   0.0   0.0   0.0   0.0   0.0   0.0   0.0 2.236068       1 arra...    True\n",
      "57    0.0   0.0   0.0   0.0   0.0   0.0   0.0   0.0   0.0   0.0   0.0   0.0   0.0   0.0   0.0   0.0   0.0   0.0   0.0   0.0   0.0   1.0   0.0   0.0   0.0   0.0   0.0   0.0   0.0   0.0 2.236068       1 arra...    True\n",
      "58    0.0   0.0   0.0   0.0   0.0   0.0   0.0   0.0   0.0   0.0   0.0   0.0   0.0   0.0   0.0   0.0   0.0   0.0   0.0   0.0   0.0   1.0   0.0   0.0   0.0   0.0   0.0   0.0   0.0   0.0 2.236068       1 arra...    True\n",
      "59    0.0   0.0   0.0   0.0   0.0   0.0   0.0   0.0   0.0   0.0   0.0   0.0   0.0   0.0   0.0   0.0   0.0   0.0   0.0   0.0   0.0   1.0   0.0   0.0   0.0   0.0   0.0   0.0   0.0   0.0 2.236068       1 arra...    True\n",
      "60    0.0   0.0   0.0   0.0   0.0   0.0   0.0   0.0   0.0   0.0   0.0   0.0   0.0   0.0   0.0   0.0   0.0   0.0   0.0   0.0   0.0   1.0   0.0   0.0   0.0   0.0   0.0   0.0   0.0   0.0 2.236068       1 arra...    True\n",
      "61    0.0   0.0   0.0   0.0   0.0   0.0   0.0   0.0   0.0   0.0   0.0   0.0   0.0   0.0   0.0   0.0   0.0   0.0   0.0   0.0   0.0   1.0   0.0   0.0   0.0   0.0   0.0   0.0   0.0   0.0 2.236068       1 arra...    True\n",
      "62    0.0   0.0   0.0   0.0   0.0   0.0   0.0   0.0   0.0   0.0   0.0   0.0   0.0   0.0   0.0   0.0   0.0   0.0   0.0   0.0   0.0   1.0   0.0   0.0   0.0   0.0   0.0   0.0   0.0   0.0 2.236068       1 arra...    True\n",
      "63    0.0   0.0   0.0   0.0   0.0   0.0   0.0   0.0   0.0   0.0   0.0   0.0   0.0   0.0   0.0   0.0   0.0   0.0   0.0   0.0   0.0   1.0   0.0   0.0   0.0   0.0   0.0   0.0   0.0   0.0 2.236068       1 arra...    True\n",
      "64    0.0   0.0   0.0   0.0   0.0   0.0   0.0   0.0   0.0   0.0   0.0   0.0   0.0   0.0   0.0   0.0   0.0   0.0   0.0   0.0   0.0   1.0   0.0   0.0   0.0   0.0   0.0   0.0   0.0   0.0 2.236068       1 arra...    True\n",
      "65    0.0   0.0   0.0   0.0   0.0   0.0   0.0   0.0   0.0   0.0   0.0   0.0   0.0   0.0   0.0   0.0   0.0   0.0   0.0   0.0   0.0   1.0   0.0   0.0   0.0   0.0   0.0   0.0   0.0   0.0 2.236068       1 arra...    True\n",
      "66    0.0   0.0   0.0   0.0   0.0   0.0   0.0   0.0   0.0   0.0   0.0   0.0   0.0   0.0   0.0   0.0   0.0   0.0   0.0   0.0   0.0   1.0   0.0   0.0   0.0   0.0   0.0   0.0   0.0   0.0 2.236068       1 arra...    True\n",
      "67    0.0   0.0   0.0   0.0   0.0   0.0   0.0   0.0   0.0   0.0   0.0   0.0   0.0   0.0   0.0   0.0   0.0   0.0   0.0   0.0   0.0   1.0   0.0   0.0   0.0   0.0   0.0   0.0   0.0   0.0 2.236068       1 arra...    True\n",
      "68    0.0   0.0   0.0   0.0   0.0   0.0   0.0   0.0   0.0   0.0   0.0   0.0   0.0   0.0   0.0   0.0   0.0   0.0   0.0   0.0   0.0   1.0   0.0   0.0   0.0   0.0   0.0   0.0   0.0   0.0 2.236068       1 arra...    True\n",
      "69    0.0   0.0   0.0   0.0   0.0   0.0   0.0   0.0   0.0   0.0   0.0   0.0   0.0   0.0   0.0   0.0   0.0   0.0   0.0   0.0   0.0   1.0   0.0   0.0   0.0   0.0   0.0   0.0   0.0   0.0 2.236068       1 arra...    True\n",
      "70    0.0   0.0   0.0   0.0   0.0   0.0   0.0   0.0   0.0   0.0   0.0   0.0   0.0   0.0   0.0   0.0   0.0   0.0   0.0   0.0   0.0   1.0   0.0   0.0   0.0   0.0   0.0   0.0   0.0   0.0 2.236068       1 arra...    True\n",
      "71    0.0   0.0   0.0   0.0   0.0   0.0   0.0   0.0   0.0   0.0   0.0   0.0   0.0   0.0   0.0   0.0   0.0   0.0   0.0   0.0   0.0   1.0   0.0   0.0   0.0   0.0   0.0   0.0   0.0   0.0 2.236068       1 arra...    True\n",
      "72    0.0   0.0   0.0   0.0   0.0   0.0   0.0   0.0   0.0   0.0   0.0   0.0   0.0   0.0   0.0   0.0   0.0   0.0   0.0   0.0   0.0   1.0   0.0   0.0   0.0   0.0   0.0   0.0   0.0   0.0 2.236068       1 arra...    True\n",
      "73    0.0   0.0   0.0   0.0   0.0   0.0   0.0   0.0   0.0   0.0   0.0   0.0   0.0   0.0   0.0   0.0   0.0   0.0   0.0   0.0   0.0   1.0   0.0   0.0   0.0   0.0   0.0   0.0   0.0   0.0 2.236068       1 arra...    True\n",
      "74    0.0   0.0   0.0   0.0   0.0   0.0   0.0   0.0   0.0   0.0   0.0   0.0   0.0   0.0   0.0   0.0   0.0   0.0   0.0   0.0   0.0   1.0   0.0   0.0   0.0   0.0   0.0   0.0   0.0   0.0 2.236068       1 arra...    True\n",
      "75    0.0   0.0   0.0   0.0   0.0   0.0   0.0   0.0   0.0   0.0   0.0   0.0   0.0   0.0   0.0   0.0   0.0   0.0   0.0   0.0   0.0   1.0   0.0   0.0   0.0   0.0   0.0   0.0   0.0   0.0 2.236068       1 arra...    True\n",
      "76    0.0   0.0   0.0   0.0   0.0   0.0   0.0   0.0   0.0   0.0   0.0   0.0   0.0   0.0   0.0   0.0   0.0   0.0   0.0   0.0   0.0   1.0   0.0   0.0   0.0   0.0   0.0   0.0   0.0   0.0 2.236068       1 arra...    True\n",
      "77    0.0   0.0   0.0   0.0   0.0   0.0   0.0   0.0   0.0   0.0   0.0   0.0   0.0   0.0   0.0   0.0   0.0   0.0   0.0   0.0   0.0   1.0   0.0   0.0   0.0   0.0   0.0   0.0   0.0   0.0 2.236068       1 arra...    True\n",
      "78    0.0   0.0   0.0   0.0   0.0   0.0   0.0   0.0   0.0   0.0   0.0   0.0   0.0   0.0   0.0   0.0   0.0   0.0   0.0   0.0   0.0   1.0   0.0   0.0   0.0   0.0   0.0   0.0   0.0   0.0 2.236068       1 arra...    True\n",
      "79    0.0   0.0   0.0   0.0   0.0   0.0   0.0   0.0   0.0   0.0   0.0   0.0   0.0   0.0   0.0   0.0   0.0   0.0   0.0   0.0   0.0   1.0   0.0   0.0   0.0   0.0   0.0   0.0   0.0   0.0 2.236068       1 arra...    True\n",
      "80    0.0   0.0   0.0   0.0   0.0   0.0   0.0   0.0   0.0   0.0   0.0   0.0   0.0   0.0   0.0   0.0   0.0   0.0   0.0   0.0   0.0   1.0   0.0   0.0   0.0   0.0   0.0   0.0   0.0   0.0 2.236068       1 arra...    True\n",
      "81    0.0   0.0   0.0   0.0   0.0   0.0   0.0   0.0   0.0   0.0   0.0   0.0   0.0   0.0   0.0   0.0   0.0   0.0   0.0   0.0   0.0   1.0   0.0   0.0   0.0   0.0   0.0   0.0   0.0   0.0 2.236068       1 arra...    True\n",
      "82    0.0   0.0   0.0   0.0   0.0   0.0   0.0   0.0   0.0   0.0   0.0   0.0   0.0   0.0   0.0   0.0   0.0   0.0   0.0   0.0   0.0   1.0   0.0   0.0   0.0   0.0   0.0   0.0   0.0   0.0 2.236068       1 arra...    True\n",
      "83    0.0   0.0   0.0   0.0   0.0   0.0   0.0   0.0   0.0   0.0   0.0   0.0   0.0   0.0   0.0   0.0   0.0   0.0   0.0   0.0   0.0   1.0   0.0   0.0   0.0   0.0   0.0   0.0   0.0   0.0 2.236068       1 arra...    True\n",
      "84    0.0   0.0   0.0   0.0   0.0   0.0   0.0   0.0   0.0   0.0   0.0   0.0   0.0   0.0   0.0   0.0   0.0   0.0   0.0   0.0   0.0   1.0   0.0   0.0   0.0   0.0   0.0   0.0   0.0   0.0 2.236068       1 arra...    True\n",
      "85    0.0   0.0   0.0   0.0   0.0   0.0   0.0   0.0   0.0   0.0   0.0   0.0   0.0   0.0   0.0   0.0   0.0   0.0   0.0   0.0   0.0   1.0   0.0   0.0   0.0   0.0   0.0   0.0   0.0   0.0 2.236068       1 arra...    True\n",
      "86    0.0   0.0   0.0   0.0   0.0   0.0   0.0   0.0   0.0   0.0   0.0   0.0   0.0   0.0   0.0   0.0   0.0   0.0   0.0   0.0   0.0   1.0   0.0   0.0   0.0   0.0   0.0   0.0   0.0   0.0 2.236068       1 arra...    True\n",
      "87    0.0   0.0   0.0   0.0   0.0   0.0   0.0   0.0   0.0   0.0   0.0   0.0   0.0   0.0   0.0   0.0   0.0   0.0   0.0   0.0   0.0   1.0   0.0   0.0   0.0   0.0   0.0   0.0   0.0   0.0 2.236068       1 arra...    True\n",
      "88    0.0   0.0   0.0   0.0   0.0   0.0   0.0   0.0   0.0   0.0   0.0   0.0   0.0   0.0   0.0   0.0   0.0   0.0   0.0   0.0   0.0   1.0   0.0   0.0   0.0   0.0   0.0   0.0   0.0   0.0 2.236068       1 arra...    True\n",
      "89    0.0   0.0   0.0   0.0   0.0   0.0   0.0   0.0   0.0   0.0   0.0   0.0   0.0   0.0   0.0   0.0   0.0   0.0   0.0   0.0   0.0   1.0   0.0   0.0   0.0   0.0   0.0   0.0   0.0   0.0 2.236068       1 arra...    True\n",
      "90    0.0   0.0   0.0   0.0   0.0   0.0   0.0   0.0   0.0   0.0   0.0   0.0   0.0   0.0   0.0   0.0   0.0   0.0   0.0   0.0   0.0   1.0   0.0   0.0   0.0   0.0   0.0   0.0   0.0   0.0 2.236068       1 arra...    True\n",
      "91    0.0   0.0   0.0   0.0   0.0   0.0   0.0   0.0   0.0   0.0   0.0   0.0   0.0   0.0   0.0   0.0   0.0   0.0   0.0   0.0   0.0   1.0   0.0   0.0   0.0   0.0   0.0   0.0   0.0   0.0 2.236068       1 arra...    True\n",
      "92    0.0   0.0   0.0   0.0   0.0   0.0   0.0   0.0   0.0   0.0   0.0   0.0   0.0   0.0   0.0   0.0   0.0   0.0   0.0   0.0   0.0   1.0   0.0   0.0   0.0   0.0   0.0   0.0   0.0   0.0 2.236068       1 arra...    True\n",
      "93    0.0   0.0   0.0   0.0   0.0   0.0   0.0   0.0   0.0   0.0   0.0   0.0   0.0   0.0   0.0   0.0   0.0   0.0   0.0   0.0   0.0   1.0   0.0   0.0   0.0   0.0   0.0   0.0   0.0   0.0 2.236068       1 arra...    True\n",
      "94    0.0   0.0   0.0   0.0   0.0   0.0   0.0   0.0   0.0   0.0   0.0   0.0   0.0   0.0   0.0   0.0   0.0   0.0   0.0   0.0   0.0   1.0   0.0   0.0   0.0   0.0   0.0   0.0   0.0   0.0 2.236068       1 arra...    True\n",
      "95    0.0   0.0   0.0   0.0   0.0   0.0   0.0   0.0   0.0   0.0   0.0   0.0   0.0   0.0   0.0   0.0   0.0   0.0   0.0   0.0   0.0   1.0   0.0   0.0   0.0   0.0   0.0   0.0   0.0   0.0 2.236068       1 arra...    True\n",
      "96    0.0   0.0   0.0   0.0   0.0   0.0   0.0   0.0   0.0   0.0   0.0   0.0   0.0   0.0   0.0   0.0   0.0   0.0   0.0   0.0   0.0   1.0   0.0   0.0   0.0   0.0   0.0   0.0   0.0   0.0 2.236068       1 arra...    True\n",
      "97    0.0   0.0   0.0   0.0   0.0   0.0   0.0   0.0   0.0   0.0   0.0   0.0   0.0   0.0   0.0   0.0   0.0   0.0   0.0   0.0   0.0   1.0   0.0   0.0   0.0   0.0   0.0   0.0   0.0   0.0 2.236068       1 arra...    True\n",
      "98    0.0   0.0   0.0   0.0   0.0   0.0   0.0   0.0   0.0   0.0   0.0   0.0   0.0   0.0   0.0   0.0   0.0   0.0   0.0   0.0   0.0   1.0   0.0   0.0   0.0   0.0   0.0   0.0   0.0   0.0 2.236068       1 arra...    True\n",
      "99    0.0   0.0   0.0   0.0   0.0   0.0   0.0   0.0   0.0   0.0   0.0   0.0   0.0   0.0   0.0   0.0   0.0   0.0   0.0   0.0   0.0   1.0   0.0   0.0   0.0   0.0   0.0   0.0   0.0   0.0 2.236068       1 arra...    True\n",
      "100   0.0   0.0   0.0   0.0   0.0   0.0   0.0   0.0   0.0   0.0   0.0   0.0   0.0   0.0   0.0   0.0   0.0   0.0   0.0   0.0   0.0   1.0   0.0   0.0   0.0   0.0   0.0   0.0   0.0   0.0 2.236068       1 arra...    True\n",
      "101   0.0   0.0   0.0   0.0   0.0   0.0   0.0   0.0   0.0   0.0   0.0   0.0   0.0   0.0   0.0   0.0   0.0   0.0   0.0   0.0   0.0   1.0   0.0   0.0   0.0   0.0   0.0   0.0   0.0   0.0 2.236068       1 arra...    True\n",
      "102   0.0   0.0   0.0   0.0   0.0   0.0   0.0   0.0   0.0   0.0   0.0   0.0   0.0   0.0   0.0   0.0   0.0   0.0   0.0   0.0   0.0   1.0   0.0   0.0   0.0   0.0   0.0   0.0   0.0   0.0 2.236068       1 arra...    True\n",
      "103   0.0   0.0   0.0   0.0   0.0   0.0   0.0   0.0   0.0   0.0   0.0   0.0   0.0   0.0   0.0   0.0   0.0   0.0   0.0   0.0   0.0   1.0   0.0   0.0   0.0   0.0   0.0   0.0   0.0   0.0 2.236068       1 arra...    True\n",
      "104   0.0   0.0   0.0   0.0   0.0   0.0   0.0   0.0   0.0   0.0   0.0   0.0   0.0   0.0   0.0   0.0   0.0   0.0   0.0   0.0   0.0   1.0   0.0   0.0   0.0   0.0   0.0   0.0   0.0   0.0 2.236068       1 arra...    True\n",
      "105   0.0   0.0   0.0   0.0   0.0   0.0   0.0   0.0   0.0   0.0   0.0   0.0   0.0   0.0   0.0   0.0   0.0   0.0   0.0   0.0   0.0   1.0   0.0   0.0   0.0   0.0   0.0   0.0   0.0   0.0 2.236068       1 arra...    True\n",
      "106   0.0   0.0   0.0   0.0   0.0   0.0   0.0   0.0   0.0   0.0   0.0   0.0   0.0   0.0   0.0   0.0   0.0   0.0   0.0   0.0   0.0   1.0   0.0   0.0   0.0   0.0   0.0   0.0   0.0   0.0 2.236068       1 arra...    True\n",
      "107   0.0   0.0   0.0   0.0   0.0   0.0   0.0   0.0   0.0   0.0   0.0   0.0   0.0   0.0   0.0   0.0   0.0   0.0   0.0   0.0   0.0   1.0   0.0   0.0   0.0   0.0   0.0   0.0   0.0   0.0 2.236068       1 arra...    True\n",
      "108   0.0   0.0   0.0   0.0   0.0   0.0   0.0   0.0   0.0   0.0   0.0   0.0   0.0   0.0   0.0   0.0   0.0   0.0   0.0   0.0   0.0   1.0   0.0   0.0   0.0   0.0   0.0   0.0   0.0   0.0 2.236068       1 arra...    True\n",
      "109   0.0   0.0   0.0   0.0   0.0   0.0   0.0   0.0   0.0   0.0   0.0   0.0   0.0   0.0   0.0   0.0   0.0   0.0   0.0   0.0   0.0   1.0   0.0   0.0   0.0   0.0   0.0   0.0   0.0   0.0 2.236068       1 arra...    True\n",
      "110   0.0   0.0   0.0   0.0   0.0   0.0   0.0   0.0   0.0   0.0   0.0   0.0   0.0   0.0   0.0   0.0   0.0   0.0   0.0   0.0   0.0   1.0   0.0   0.0   0.0   0.0   0.0   0.0   0.0   0.0 2.236068       1 arra...    True\n",
      "111   0.0   0.0   0.0   0.0   0.0   0.0   0.0   0.0   0.0   0.0   0.0   0.0   0.0   0.0   0.0   0.0   0.0   0.0   0.0   0.0   0.0   1.0   0.0   0.0   0.0   0.0   0.0   0.0   0.0   0.0 2.236068       1 arra...    True\n",
      "112   0.0   0.0   0.0   0.0   0.0   0.0   0.0   0.0   0.0   0.0   0.0   0.0   0.0   0.0   0.0   0.0   0.0   0.0   0.0   0.0   0.0   1.0   0.0   0.0   0.0   0.0   0.0   0.0   0.0   0.0 2.236068       1 arra...    True\n",
      "113   0.0   0.0   0.0   0.0   0.0   0.0   0.0   0.0   0.0   0.0   0.0   0.0   0.0   0.0   0.0   0.0   0.0   0.0   0.0   0.0   0.0   1.0   0.0   0.0   0.0   0.0   0.0   0.0   0.0   0.0 2.236068       1 arra...    True\n",
      "114   0.0   0.0   0.0   0.0   0.0   0.0   0.0   0.0   0.0   0.0   0.0   0.0   0.0   0.0   0.0   0.0   0.0   0.0   0.0   0.0   0.0   1.0   0.0   0.0   0.0   0.0   0.0   0.0   0.0   0.0 2.236068       1 arra...    True\n",
      "115   0.0   0.0   0.0   0.0   0.0   0.0   0.0   0.0   0.0   0.0   0.0   0.0   0.0   0.0   0.0   0.0   0.0   0.0   0.0   0.0   0.0   1.0   0.0   0.0   0.0   0.0   0.0   0.0   0.0   0.0 2.236068       1 arra...    True\n",
      "116   0.0   0.0   0.0   0.0   0.0   0.0   0.0   0.0   0.0   0.0   0.0   0.0   0.0   0.0   0.0   0.0   0.0   0.0   0.0   0.0   0.0   1.0   0.0   0.0   0.0   0.0   0.0   0.0   0.0   0.0 2.236068       1 arra...    True\n",
      "117   0.0   0.0   0.0   0.0   0.0   0.0   0.0   0.0   0.0   0.0   0.0   0.0   0.0   0.0   0.0   0.0   0.0   0.0   0.0   0.0   0.0   1.0   0.0   0.0   0.0   0.0   0.0   0.0   0.0   0.0 2.236068       1 arra...    True\n",
      "118   0.0   0.0   0.0   0.0   0.0   0.0   0.0   0.0   0.0   0.0   0.0   0.0   0.0   0.0   0.0   0.0   0.0   0.0   0.0   0.0   0.0   1.0   0.0   0.0   0.0   0.0   0.0   0.0   0.0   0.0 2.236068       1 arra...    True\n",
      "119   0.0   0.0   0.0   0.0   0.0   0.0   0.0   0.0   0.0   0.0   0.0   0.0   0.0   0.0   0.0   0.0   0.0   0.0   0.0   0.0   0.0   1.0   0.0   0.0   0.0   0.0   0.0   0.0   0.0   0.0 2.236068       1 arra...    True\n",
      "120   0.0   0.0   0.0   0.0   0.0   0.0   0.0   0.0   0.0   0.0   0.0   0.0   0.0   0.0   0.0   0.0   0.0   0.0   0.0   0.0   0.0   1.0   0.0   0.0   0.0   0.0   0.0   0.0   0.0   0.0 2.236068       1 arra...    True\n",
      "121   0.0   0.0   0.0   0.0   0.0   0.0   0.0   0.0   0.0   0.0   0.0   0.0   0.0   0.0   0.0   0.0   0.0   0.0   0.0   0.0   0.0   1.0   0.0   0.0   0.0   0.0   0.0   0.0   0.0   0.0 2.236068       1 arra...    True\n",
      "122   0.0   0.0   0.0   0.0   0.0   0.0   0.0   0.0   0.0   0.0   0.0   0.0   0.0   0.0   0.0   0.0   0.0   0.0   0.0   0.0   0.0   1.0   0.0   0.0   0.0   0.0   0.0   0.0   0.0   0.0 2.236068       1 arra...    True\n",
      "123   0.0   0.0   0.0   0.0   0.0   0.0   0.0   0.0   0.0   0.0   0.0   0.0   0.0   0.0   0.0   0.0   0.0   0.0   0.0   0.0   0.0   1.0   0.0   0.0   0.0   0.0   0.0   0.0   0.0   0.0 2.236068       1 arra...    True\n",
      "124   0.0   0.0   0.0   0.0   0.0   0.0   0.0   0.0   0.0   0.0   0.0   0.0   0.0   0.0   0.0   0.0   0.0   0.0   0.0   0.0   0.0   1.0   0.0   0.0   0.0   0.0   0.0   0.0   0.0   0.0 2.236068       1 arra...    True\n",
      "125   0.0   0.0   0.0   0.0   0.0   0.0   0.0   0.0   0.0   0.0   0.0   0.0   0.0   0.0   0.0   0.0   0.0   0.0   0.0   0.0   0.0   1.0   0.0   0.0   0.0   0.0   0.0   0.0   0.0   0.0 2.236068       1 arra...    True\n",
      "126   0.0   0.0   0.0   0.0   0.0   0.0   0.0   0.0   0.0   0.0   0.0   0.0   0.0   0.0   0.0   0.0   0.0   0.0   0.0   0.0   0.0   1.0   0.0   0.0   0.0   0.0   0.0   0.0   0.0   0.0 2.236068       1 arra...    True\n",
      "127   0.0   0.0   0.0   0.0   0.0   0.0   0.0   0.0   0.0   0.0   0.0   0.0   0.0   0.0   0.0   0.0   0.0   0.0   0.0   0.0   0.0   1.0   0.0   0.0   0.0   0.0   0.0   0.0   0.0   0.0 2.236068       1 arra...    True\n",
      "128   0.0   0.0   0.0   0.0   0.0   0.0   0.0   0.0   0.0   0.0   0.0   0.0   0.0   0.0   0.0   0.0   0.0   0.0   0.0   0.0   0.0   1.0   0.0   0.0   0.0   0.0   0.0   0.0   0.0   0.0 2.236068       1 arra...    True\n",
      "129   0.0   0.0   0.0   0.0   0.0   0.0   0.0   0.0   0.0   0.0   0.0   0.0   0.0   0.0   0.0   0.0   0.0   0.0   0.0   0.0   0.0   1.0   0.0   0.0   0.0   0.0   0.0   0.0   0.0   0.0 2.236068       1 arra...    True\n",
      "130   0.0   0.0   0.0   0.0   0.0   0.0   0.0   0.0   0.0   0.0   0.0   0.0   0.0   0.0   0.0   0.0   0.0   0.0   0.0   0.0   0.0   1.0   0.0   0.0   0.0   0.0   0.0   0.0   0.0   0.0 2.236068       1 arra...    True\n",
      "131   0.0   0.0   0.0   0.0   0.0   0.0   0.0   0.0   0.0   0.0   0.0   0.0   0.0   0.0   0.0   0.0   0.0   0.0   0.0   0.0   0.0   1.0   0.0   0.0   0.0   0.0   0.0   0.0   0.0   0.0 2.236068       1 arra...    True\n",
      "132   0.0   0.0   0.0   0.0   0.0   0.0   0.0   0.0   0.0   0.0   0.0   0.0   0.0   0.0   0.0   0.0   0.0   0.0   0.0   0.0   0.0   1.0   0.0   0.0   0.0   0.0   0.0   0.0   0.0   0.0 2.236068       1 arra...    True\n",
      "133   0.0   0.0   0.0   0.0   0.0   0.0   0.0   0.0   0.0   0.0   0.0   0.0   0.0   0.0   0.0   0.0   0.0   0.0   0.0   0.0   0.0   1.0   0.0   0.0   0.0   0.0   0.0   0.0   0.0   0.0 2.236068       1 arra...    True\n",
      "134   0.0   0.0   0.0   0.0   0.0   0.0   0.0   0.0   0.0   0.0   0.0   0.0   0.0   0.0   0.0   0.0   0.0   0.0   0.0   0.0   0.0   1.0   0.0   0.0   0.0   0.0   0.0   0.0   0.0   0.0 2.236068       1 arra...    True\n",
      "135   0.0   0.0   0.0   0.0   0.0   0.0   0.0   0.0   0.0   0.0   0.0   0.0   0.0   0.0   0.0   0.0   0.0   0.0   0.0   0.0   0.0   1.0   0.0   0.0   0.0   0.0   0.0   0.0   0.0   0.0 2.236068       1 arra...    True\n",
      "136   0.0   0.0   0.0   0.0   0.0   0.0   0.0   0.0   0.0   0.0   0.0   0.0   0.0   0.0   0.0   0.0   0.0   0.0   0.0   0.0   0.0   1.0   0.0   0.0   0.0   0.0   0.0   0.0   0.0   0.0 2.236068       1 arra...    True\n",
      "137   0.0   0.0   0.0   0.0   0.0   0.0   0.0   0.0   0.0   0.0   0.0   0.0   0.0   0.0   0.0   0.0   0.0   0.0   0.0   0.0   0.0   1.0   0.0   0.0   0.0   0.0   0.0   0.0   0.0   0.0 2.236068       1 arra...    True\n",
      "138   0.0   0.0   0.0   0.0   0.0   0.0   0.0   0.0   0.0   0.0   0.0   0.0   0.0   0.0   0.0   0.0   0.0   0.0   0.0   0.0   0.0   1.0   0.0   0.0   0.0   0.0   0.0   0.0   0.0   0.0 2.236068       1 arra...    True\n",
      "139   0.0   0.0   0.0   0.0   0.0   0.0   0.0   0.0   0.0   0.0   0.0   0.0   0.0   0.0   0.0   0.0   0.0   0.0   0.0   0.0   0.0   1.0   0.0   0.0   0.0   0.0   0.0   0.0   0.0   0.0 2.236068       1 arra...    True\n",
      "0     0.0   0.0   0.0   0.0   0.0   0.0   0.0   0.0   0.0   0.0   0.0   0.0   0.0   0.0   0.0   0.0   1.0   0.0   0.0   0.0   0.0   0.0   0.0   1.0   0.0   0.0   0.0   0.0   0.0   0.0 2.414214       1 arra...    True\n",
      "3     0.0   0.0   0.0   0.0   0.0   0.0   0.0   0.0   0.0   0.0   0.0   0.0   0.0   0.0   0.0   0.0   1.0   0.0   0.0   0.0   0.0   0.0   0.0   1.0   0.0   0.0   0.0   0.0   0.0   0.0 2.414214       1 arra...    True\n",
      "9     0.0   0.0   0.0   0.0   0.0   0.0   0.0   0.0   0.0   0.0   0.0   0.0   0.0   0.0   0.0   0.0   1.0   0.0   0.0   0.0   0.0   0.0   0.0   1.0   0.0   0.0   0.0   0.0   0.0   0.0 2.414214       1 arra...    True\n",
      "30    0.0   0.0   0.0   0.0   0.0   0.0   0.0   0.0   0.0   0.0   0.0   0.0   0.0   0.0   0.0   0.0   1.0   0.0   0.0   0.0   0.0   0.0   0.0   1.0   0.0   0.0   0.0   0.0   0.0   0.0 2.414214       1 arra...    True\n",
      "40    0.0   0.0   0.0   0.0   0.0   0.0   0.0   0.0   0.0   0.0   0.0   0.0   0.0   0.0   0.0   0.0   1.0   0.0   0.0   0.0   0.0   0.0   0.0   1.0   0.0   0.0   0.0   0.0   0.0   0.0 2.414214       1 arra...    True\n",
      "42    0.0   0.0   0.0   0.0   0.0   0.0   0.0   0.0   0.0   0.0   0.0   0.0   0.0   0.0   0.0   0.0   1.0   0.0   0.0   0.0   0.0   0.0   0.0   1.0   0.0   0.0   0.0   0.0   0.0   0.0 2.414214       1 arra...    True\n",
      "140   0.0   0.0   0.0   0.0   0.0   0.0   0.0   0.0   0.0   0.0   0.0   0.0   0.0   0.0   0.0   0.0   1.0   0.0   0.0   0.0   0.0   0.0   0.0   1.0   0.0   0.0   0.0   0.0   0.0   0.0 2.414214       1 arra...    True\n",
      "141   0.0   0.0   0.0   0.0   0.0   0.0   0.0   0.0   0.0   0.0   0.0   0.0   0.0   0.0   0.0   0.0   1.0   0.0   0.0   0.0   0.0   0.0   0.0   1.0   0.0   0.0   0.0   0.0   0.0   0.0 2.414214       1 arra...    True\n",
      "142   0.0   0.0   0.0   0.0   0.0   0.0   0.0   0.0   0.0   0.0   0.0   0.0   0.0   0.0   0.0   0.0   1.0   0.0   0.0   0.0   0.0   0.0   0.0   1.0   0.0   0.0   0.0   0.0   0.0   0.0 2.414214       1 arra...    True\n",
      "143   0.0   0.0   0.0   0.0   0.0   0.0   0.0   0.0   0.0   0.0   0.0   0.0   0.0   0.0   0.0   0.0   1.0   0.0   0.0   0.0   0.0   0.0   0.0   1.0   0.0   0.0   0.0   0.0   0.0   0.0 2.414214       1 arra...    True\n",
      "144   0.0   0.0   0.0   0.0   0.0   0.0   0.0   0.0   0.0   0.0   0.0   0.0   0.0   0.0   0.0   0.0   1.0   0.0   0.0   0.0   0.0   0.0   0.0   1.0   0.0   0.0   0.0   0.0   0.0   0.0 2.414214       1 arra...    True\n",
      "145   0.0   0.0   0.0   0.0   0.0   0.0   0.0   0.0   0.0   0.0   0.0   0.0   0.0   0.0   0.0   0.0   1.0   0.0   0.0   0.0   0.0   0.0   0.0   1.0   0.0   0.0   0.0   0.0   0.0   0.0 2.414214       1 arra...    True\n",
      "146   0.0   0.0   0.0   0.0   0.0   0.0   0.0   0.0   0.0   0.0   0.0   0.0   0.0   0.0   0.0   0.0   1.0   0.0   0.0   0.0   0.0   0.0   0.0   1.0   0.0   0.0   0.0   0.0   0.0   0.0 2.414214       1 arra...    True\n",
      "147   0.0   0.0   0.0   0.0   0.0   0.0   0.0   0.0   0.0   0.0   0.0   0.0   0.0   0.0   0.0   0.0   1.0   0.0   0.0   0.0   0.0   0.0   0.0   1.0   0.0   0.0   0.0   0.0   0.0   0.0 2.414214       1 arra...    True\n",
      "['INTEGER', 148 rows, 148 samples, 30 variables]"
     ]
    }
   ],
   "source": [
    "# Printing the sample set\n",
    "for c, cval in cqm.constraints.items():\n",
    "    print(c, cval)\n",
    "    \n",
    "feasible_sampleset = sampleset.filter(lambda d: d.is_feasible)\n",
    "\n",
    "sample = feasible_sampleset.first.sample\n",
    "Formatter(width=1000).fprint(feasible_sampleset)"
   ]
  },
  {
   "cell_type": "code",
   "execution_count": 14,
   "metadata": {},
   "outputs": [
    {
     "name": "stdout",
     "output_type": "stream",
     "text": [
      "constraint 1-1 0.0\n",
      "constraint 1-2 0.0\n",
      "constraint 1-3 0.0\n",
      "constraint 1-4 0.0\n",
      "constraint 1-5 0.0\n",
      "constraint 1-6 0.0\n"
     ]
    }
   ],
   "source": [
    "for constraint in cqm.iter_constraint_data(sample):\n",
    "    print(constraint.label, constraint.violation)"
   ]
  },
  {
   "cell_type": "code",
   "execution_count": 15,
   "metadata": {},
   "outputs": [
    {
     "name": "stdout",
     "output_type": "stream",
     "text": [
      "lhs : 0.0\n",
      "rhs : 0.0\n",
      "sense  : Sense.Eq\n",
      "---\n",
      "lhs : -1.0\n",
      "rhs : -1.0\n",
      "sense  : Sense.Eq\n",
      "---\n",
      "lhs : 0.0\n",
      "rhs : 0.0\n",
      "sense  : Sense.Eq\n",
      "---\n",
      "lhs : 0.0\n",
      "rhs : 0.0\n",
      "sense  : Sense.Eq\n",
      "---\n",
      "lhs : 1.0\n",
      "rhs : 1.0\n",
      "sense  : Sense.Eq\n",
      "---\n",
      "lhs : 0.0\n",
      "rhs : 0.0\n",
      "sense  : Sense.Eq\n",
      "---\n"
     ]
    }
   ],
   "source": [
    "for c, v in cqm.constraints.items():\n",
    "    print('lhs : ' + str(v.lhs.energy(sample)))\n",
    "    print('rhs : ' + str(v.rhs))\n",
    "    print('sense  : ' + str(v.sense))\n",
    "    print(\"---\")"
   ]
  },
  {
   "cell_type": "code",
   "execution_count": 16,
   "metadata": {},
   "outputs": [
    {
     "name": "stdout",
     "output_type": "stream",
     "text": [
      "['X_5_2']\n"
     ]
    }
   ],
   "source": [
    "sample_keys = sample.keys()\n",
    "sample_solutions = []\n",
    "for key in sample_keys:\n",
    "    if sample.get(key) == 1:\n",
    "        sample_solutions.append(key)\n",
    "print(sample_solutions)"
   ]
  },
  {
   "cell_type": "code",
   "execution_count": 18,
   "metadata": {},
   "outputs": [
    {
     "data": {
      "image/png": "[encoded data removed]",
      "text/plain": [
       "<Figure size 640x480 with 1 Axes>"
      ]
     },
     "metadata": {},
     "output_type": "display_data"
    }
   ],
   "source": [
    "# Function to check if a string has a number in it\n",
    "def containsNumber(value) -> Iterable[int]:\n",
    "    \"\"\" Checks if value contains a number and\n",
    "    returns a Iterable of numbers in the value.\n",
    "\n",
    "    Parameters\n",
    "    ----------\n",
    "    `value` (str):\n",
    "        The string to check.\n",
    "\n",
    "    Returns\n",
    "    -------\n",
    "    `num_list` (Iterable[int]):\n",
    "        The list of numbers in the value.\n",
    "    \"\"\"\n",
    "    # Find the numbers from the string\n",
    "    return [(int(num)-1) for num in re.findall(r'\\d+', value)]\n",
    "\n",
    "sample_coordinate_sequence = []\n",
    "for i in range(len(sample_solutions)):\n",
    "    res = containsNumber(sample_solutions[i])\n",
    "    sample_coordinate_sequence.append(res)\n",
    "\n",
    "plt.scatter(x_vals, y_vals)\n",
    "\n",
    "for i in sample_coordinate_sequence:\n",
    "    start = coordinates[i[0]]\n",
    "    end = coordinates[i[1]]\n",
    "    plt.plot([start[0], end[0]], [start[1], end[1]])\n",
    "\n",
    "plt.show()"
   ]
  },
  {
   "cell_type": "markdown",
   "metadata": {},
   "source": [
    "You predicted that, didn't you? Well that shows you understand how this works! Now we're going to take this a step further, to really bring put the model to use. We are going to have a rather random graph, where some nodes will not have an edge directly connecting them. The goal for the model is to find a path such that it connects the source and destination by using these intermediate nodes as steps, and doing so with optimal cost.\n",
    "\n",
    "We will repeat the same process, but this time with a different graph. This forces us to alter the loops as well to account for this change."
   ]
  },
  {
   "cell_type": "code",
   "execution_count": 32,
   "metadata": {},
   "outputs": [],
   "source": [
    "# Initializing the CQM\n",
    "cqm = ConstrainedQuadraticModel()\n",
    "\n",
    "# Initializing the objective\n",
    "objective = 0\n",
    "\n",
    "# Initializing the constraints\n",
    "constraint_1 = 0\n",
    "constraint_2 = 0"
   ]
  },
  {
   "cell_type": "markdown",
   "metadata": {},
   "source": [
    "Here is where we define the edges."
   ]
  },
  {
   "cell_type": "code",
   "execution_count": 33,
   "metadata": {},
   "outputs": [],
   "source": [
    "edges = [[0, 1], [1, 2], [1, 3], [1, 5], [2, 3], [3, 4], [4, 5]]\n",
    "\n",
    "s = 2\n",
    "t = 4\n",
    "\n",
    "graph.set_edges(edges=edges)"
   ]
  },
  {
   "cell_type": "markdown",
   "metadata": {},
   "source": [
    "We don't need to change the distance matrix, as we will access the distances we need based on the `edges` list."
   ]
  },
  {
   "cell_type": "code",
   "execution_count": 34,
   "metadata": {},
   "outputs": [
    {
     "name": "stdout",
     "output_type": "stream",
     "text": [
      "[[0.0 BinaryQuadraticModel({'X_1_2': 1.0}, {}, 0.0, 'BINARY') 0 0 0 0]\n",
      " [0 0 BinaryQuadraticModel({'X_2_3': 1.0}, {}, 0.0, 'BINARY')\n",
      "  BinaryQuadraticModel({'X_2_4': 1.0}, {}, 0.0, 'BINARY') 0\n",
      "  BinaryQuadraticModel({'X_2_6': 1.0}, {}, 0.0, 'BINARY')]\n",
      " [0 0 0 BinaryQuadraticModel({'X_3_4': 1.0}, {}, 0.0, 'BINARY') 0 0]\n",
      " [0 0 0 0 BinaryQuadraticModel({'X_4_5': 1.0}, {}, 0.0, 'BINARY') 0]\n",
      " [0 0 0 0 0 BinaryQuadraticModel({'X_5_6': 1.0}, {}, 0.0, 'BINARY')]\n",
      " [0 0 0 0 0 0]]\n"
     ]
    }
   ],
   "source": [
    "X = np.array([])\n",
    "\n",
    "for i in range(n):\n",
    "    for j in range(n):\n",
    "        if [i, j] in edges:\n",
    "            X = np.append(X, Binary(f\"X_{i+1}_{j+1}\"))\n",
    "        else:\n",
    "            X = np.append(X, 0)\n",
    "X = X.reshape(n, n)\n",
    "\n",
    "print(X)"
   ]
  },
  {
   "cell_type": "code",
   "execution_count": 35,
   "metadata": {},
   "outputs": [],
   "source": [
    "# Defining objective\n",
    "objective = quicksum(distance_matrix[i][j] * X[i][j] for i in range(n) for j in range(n))\n",
    "cqm.set_objective(objective)"
   ]
  },
  {
   "cell_type": "code",
   "execution_count": 36,
   "metadata": {},
   "outputs": [
    {
     "name": "stdout",
     "output_type": "stream",
     "text": [
      "Constraint 1-1\n",
      "Constraint 1-2\n",
      "Constraint 1-3\n",
      "Constraint 1-4\n",
      "Constraint 1-5\n",
      "Constraint 1-6\n",
      "X_2_3 + X_2_4 + X_2_6 - X_1_2 == 0.0\n"
     ]
    }
   ],
   "source": [
    "# Defining the constraints\n",
    "for i in range(n):\n",
    "\tconstraint_1 = quicksum(X[i][j] for j in range(n)) - quicksum(X[j][i] for j in range(n))\n",
    "\tprint(f\"Constraint 1-{i+1}\")\n",
    "\tif i == s:\n",
    "\t\tcqm.add_constraint(constraint_1 == 1, label=f\"constraint 1-{i+1}\")\n",
    "\telif i == t:\n",
    "\t\tcqm.add_constraint(constraint_1 == -1, label=f\"constraint 1-{i+1}\")\n",
    "\telse:\n",
    "\t\tcqm.add_constraint(constraint_1 == 0, label=f\"constraint 1-{i+1}\")\n",
    "\n",
    "print(cqm.constraints[\"constraint 1-2\"])"
   ]
  },
  {
   "cell_type": "code",
   "execution_count": 37,
   "metadata": {},
   "outputs": [
    {
     "name": "stdout",
     "output_type": "stream",
     "text": [
      "Constraint 2-11\n",
      "Constraint 2-12\n",
      "Constraint 2-13\n",
      "Constraint 2-14\n",
      "Constraint 2-15\n",
      "Constraint 2-16\n",
      "Constraint 2-21\n",
      "Constraint 2-22\n",
      "Constraint 2-23\n",
      "Constraint 2-24\n",
      "Constraint 2-25\n",
      "Constraint 2-26\n",
      "Constraint 2-31\n",
      "Constraint 2-32\n",
      "Constraint 2-33\n",
      "Constraint 2-34\n",
      "Constraint 2-35\n",
      "Constraint 2-36\n",
      "Constraint 2-41\n",
      "Constraint 2-42\n",
      "Constraint 2-43\n",
      "Constraint 2-44\n",
      "Constraint 2-45\n",
      "Constraint 2-46\n",
      "Constraint 2-51\n",
      "Constraint 2-52\n",
      "Constraint 2-53\n",
      "Constraint 2-54\n",
      "Constraint 2-55\n",
      "Constraint 2-56\n",
      "Constraint 2-61\n",
      "Constraint 2-62\n",
      "Constraint 2-63\n",
      "Constraint 2-64\n",
      "Constraint 2-65\n",
      "Constraint 2-66\n"
     ]
    }
   ],
   "source": [
    "for i in range(n):\n",
    "\tfor j in range(n):\n",
    "\t\tprint(f\"Constraint 2-{i+1}{j+1}\")\n",
    "\t\tif X[i][j] == 0:\n",
    "\t\t\tpass\n",
    "\t\telse:\n",
    "\t\t\tcqm.add_constraint(X[i][j]>= 0, label=f\"constraint 2-{i+1}{j+1}\")"
   ]
  },
  {
   "cell_type": "markdown",
   "metadata": {},
   "source": [
    "Let's run it again."
   ]
  },
  {
   "cell_type": "code",
   "execution_count": 38,
   "metadata": {},
   "outputs": [],
   "source": [
    "# Running the sampler to get the sample set\n",
    "cqm_sampler = CQMBackend(token=token, time=30, label='CQM-ESP')\n",
    "sampleset = cqm_sampler(problem=cqm)"
   ]
  },
  {
   "cell_type": "code",
   "execution_count": 39,
   "metadata": {},
   "outputs": [
    {
     "name": "stdout",
     "output_type": "stream",
     "text": [
      "constraint 1-1 X_1_2 == 0.0\n",
      "constraint 1-2 X_2_3 + X_2_4 + X_2_6 - X_1_2 == 0.0\n",
      "constraint 1-3 X_3_4 - X_2_3 == 1.0\n",
      "constraint 1-4 X_4_5 - X_2_4 - X_3_4 == 0.0\n",
      "constraint 1-5 X_5_6 - X_4_5 == -1.0\n",
      "constraint 1-6 -X_2_6 - X_5_6 == 0.0\n",
      "constraint 2-12 X_1_2 >= 0.0\n",
      "constraint 2-23 X_2_3 >= 0.0\n",
      "constraint 2-24 X_2_4 >= 0.0\n",
      "constraint 2-26 X_2_6 >= 0.0\n",
      "constraint 2-34 X_3_4 >= 0.0\n",
      "constraint 2-45 X_4_5 >= 0.0\n",
      "constraint 2-56 X_5_6 >= 0.0\n",
      "  X_1_2 X_2_3 X_2_4 X_2_6 X_3_4 X_4_5 X_5_6   energy num_oc. is_sat. is_fea.\n",
      "0   0.0   0.0   0.0   0.0   1.0   1.0   0.0 3.650282       1 arra...    True\n",
      "['INTEGER', 1 rows, 1 samples, 7 variables]"
     ]
    }
   ],
   "source": [
    "# Printing the sample set\n",
    "for c, cval in cqm.constraints.items():\n",
    "    print(c, cval)\n",
    "    \n",
    "feasible_sampleset = sampleset.filter(lambda d: d.is_feasible)\n",
    "\n",
    "sample = feasible_sampleset.first.sample\n",
    "Formatter(width=1000).fprint(feasible_sampleset)"
   ]
  },
  {
   "cell_type": "code",
   "execution_count": 40,
   "metadata": {},
   "outputs": [
    {
     "name": "stdout",
     "output_type": "stream",
     "text": [
      "constraint 1-1 0.0\n",
      "constraint 1-2 0.0\n",
      "constraint 1-3 0.0\n",
      "constraint 1-4 0.0\n",
      "constraint 1-5 0.0\n",
      "constraint 1-6 0.0\n",
      "constraint 2-12 -0.0\n",
      "constraint 2-23 -0.0\n",
      "constraint 2-24 -0.0\n",
      "constraint 2-26 -0.0\n",
      "constraint 2-34 -1.0\n",
      "constraint 2-45 -1.0\n",
      "constraint 2-56 -0.0\n"
     ]
    }
   ],
   "source": [
    "for constraint in cqm.iter_constraint_data(sample):\n",
    "    print(constraint.label, constraint.violation)"
   ]
  },
  {
   "cell_type": "code",
   "execution_count": 41,
   "metadata": {},
   "outputs": [
    {
     "name": "stdout",
     "output_type": "stream",
     "text": [
      "lhs : 0.0\n",
      "rhs : 0.0\n",
      "sense  : Sense.Eq\n",
      "---\n",
      "lhs : 0.0\n",
      "rhs : 0.0\n",
      "sense  : Sense.Eq\n",
      "---\n",
      "lhs : 1.0\n",
      "rhs : 1.0\n",
      "sense  : Sense.Eq\n",
      "---\n",
      "lhs : 0.0\n",
      "rhs : 0.0\n",
      "sense  : Sense.Eq\n",
      "---\n",
      "lhs : -1.0\n",
      "rhs : -1.0\n",
      "sense  : Sense.Eq\n",
      "---\n",
      "lhs : 0.0\n",
      "rhs : 0.0\n",
      "sense  : Sense.Eq\n",
      "---\n",
      "lhs : 0.0\n",
      "rhs : 0.0\n",
      "sense  : Sense.Ge\n",
      "---\n",
      "lhs : 0.0\n",
      "rhs : 0.0\n",
      "sense  : Sense.Ge\n",
      "---\n",
      "lhs : 0.0\n",
      "rhs : 0.0\n",
      "sense  : Sense.Ge\n",
      "---\n",
      "lhs : 0.0\n",
      "rhs : 0.0\n",
      "sense  : Sense.Ge\n",
      "---\n",
      "lhs : 1.0\n",
      "rhs : 0.0\n",
      "sense  : Sense.Ge\n",
      "---\n",
      "lhs : 1.0\n",
      "rhs : 0.0\n",
      "sense  : Sense.Ge\n",
      "---\n",
      "lhs : 0.0\n",
      "rhs : 0.0\n",
      "sense  : Sense.Ge\n",
      "---\n"
     ]
    }
   ],
   "source": [
    "for c, v in cqm.constraints.items():\n",
    "    print('lhs : ' + str(v.lhs.energy(sample)))\n",
    "    print('rhs : ' + str(v.rhs))\n",
    "    print('sense  : ' + str(v.sense))\n",
    "    print(\"---\")"
   ]
  },
  {
   "cell_type": "code",
   "execution_count": 42,
   "metadata": {},
   "outputs": [
    {
     "name": "stdout",
     "output_type": "stream",
     "text": [
      "['X_3_4', 'X_4_5']\n"
     ]
    }
   ],
   "source": [
    "sample_keys = sample.keys()\n",
    "sample_solutions = []\n",
    "for key in sample_keys:\n",
    "    if sample.get(key) == 1:\n",
    "        sample_solutions.append(key)\n",
    "print(sample_solutions)"
   ]
  },
  {
   "cell_type": "code",
   "execution_count": 43,
   "metadata": {},
   "outputs": [
    {
     "data": {
      "image/png": "[encoded data removed]",
      "text/plain": [
       "<Figure size 640x480 with 1 Axes>"
      ]
     },
     "metadata": {},
     "output_type": "display_data"
    }
   ],
   "source": [
    "sample_coordinate_sequence = []\n",
    "for i in range(len(sample_solutions)):\n",
    "    res = containsNumber(sample_solutions[i])\n",
    "    sample_coordinate_sequence.append(res)\n",
    "\n",
    "plt.scatter(x_vals, y_vals)\n",
    "\n",
    "for i in sample_coordinate_sequence:\n",
    "    start = coordinates[i[0]]\n",
    "    end = coordinates[i[1]]\n",
    "    plt.plot([start[0], end[0]], [start[1], end[1]])\n",
    "\n",
    "plt.show()"
   ]
  },
  {
   "cell_type": "markdown",
   "metadata": {},
   "source": [
    "Now we can see the algorithm finding the path with limited access. This implementation requires $2N$ constraints, thus is a rather efficient way of implementing this problem. However, we must note that this scales linearly with more edges we have. Let's say we have a city, with 10,000 roads, then we will require 20,000 constraints."
   ]
  },
  {
   "cell_type": "markdown",
   "metadata": {},
   "source": [
    "## Constructing the QESP Solver class \n",
    "\n",
    "We will now construct a class for finding the shortest path between two given nodes, if one exists. This class will take in the coordinates, the edges in the graph, and the boundary nodes, and return the shortest path."
   ]
  },
  {
   "cell_type": "code",
   "execution_count": 46,
   "metadata": {},
   "outputs": [],
   "source": [
    "from __future__ import annotations\n",
    "\n",
    "__all__ = ['QESP']\n",
    "\n",
    "from collections.abc import Iterable\n",
    "import re\n",
    "import os\n",
    "os.chdir('..')\n",
    "\n",
    "import dimod\n",
    "from dimod import ConstrainedQuadraticModel, Binary, quicksum\n",
    "from dimod.serialization.format import Formatter\n",
    "\n",
    "from cqm.data import Graph\n",
    "from cqm.solver import CQM\n",
    "from cqm.backend import CQMBackend\n",
    "\n",
    "import numpy as np\n",
    "\n",
    "\n",
    "class QESP(CQM):\n",
    "    \"\"\" `QESP` is a class for implementing a CQM for the Shortest Path Finding Problem.\n",
    "    \"\"\"\n",
    "    def __init__(self,\n",
    "                 coordinates: Iterable[Iterable[float]],\n",
    "                 edges: Iterable[Iterable[int]],\n",
    "                 source: int,\n",
    "                 destination: int,\n",
    "                 time: int,\n",
    "                 log: bool = True) -> None:\n",
    "        \"\"\" Initializes a `QESP` instance.\n",
    "\n",
    "        Parameters\n",
    "        ----------\n",
    "        `coordinates` (Iterable[Iterable[float]]):\n",
    "            The coordinates of the nodes of the graph.\n",
    "        `edges` (Iterable[Iterable[int]]):\n",
    "            The edges of the graph.\n",
    "        `source` (int):\n",
    "            The source node.\n",
    "        `destination` (int):\n",
    "            The desination node.\n",
    "        `time` (int):\n",
    "            The time limit for the problem.\n",
    "        `log` (bool):\n",
    "            Whether to log the output or not.\n",
    "        \"\"\"\n",
    "        self.graph = Graph(coordinates=coordinates,\n",
    "                           edges=edges)\n",
    "        self.source = source\n",
    "        self.destination = destination\n",
    "        self.time_limit = time\n",
    "        self.log = log\n",
    "        # Construct the CQM\n",
    "        self.cqm = self.define_CQM()\n",
    "\n",
    "    def define_CQM(self) -> dimod.ConstrainedQuadraticModel:\n",
    "        \"\"\" Defines the CQM for the given graph.\n",
    "\n",
    "        Returns\n",
    "        -------\n",
    "        `cqm` (dimod.ConstrainedQuadraticModel):\n",
    "            The CQM.\n",
    "        \"\"\"\n",
    "        # Define the number of nodes\n",
    "        n = self.graph.num_nodes\n",
    "\n",
    "        # Construct the distance matrix\n",
    "        distance_matrix = self.graph.calculate_distance_matrix()\n",
    "\n",
    "        # Initialize the CQM\n",
    "        cqm = ConstrainedQuadraticModel()\n",
    "\n",
    "        # Initialize the objective\n",
    "        objective = 0\n",
    "\n",
    "        # Initialize the constraints\n",
    "        constraint_1 = 0\n",
    "        constraint_2 = 0\n",
    "\n",
    "        # Initialize the decision variables\n",
    "        X = np.array([])\n",
    "\n",
    "        for i in range(n):\n",
    "            for j in range(n):\n",
    "                if [i, j] in self.graph.edges:\n",
    "                    X = np.append(X, Binary(f\"X_{i+1}_{j+1}\"))\n",
    "                else:\n",
    "                    X = np.append(X, 0)\n",
    "        X = X.reshape(n, n)\n",
    "\n",
    "        # Define objective\n",
    "        objective = quicksum(distance_matrix[i][j] * X[i][j] for i in range(n) for j in range(n))\n",
    "        cqm.set_objective(objective)\n",
    "\n",
    "        # Define the constraints\n",
    "        for i in range(n):\n",
    "            constraint_1 = quicksum(X[i][j] for j in range(n)) - quicksum(X[j][i] for j in range(n))\n",
    "            if i == self.source:\n",
    "                cqm.add_constraint(constraint_1 == 1, label=f\"constraint 1-{i+1}\")\n",
    "            elif i == self.destination:\n",
    "                cqm.add_constraint(constraint_1 == -1, label=f\"constraint 1-{i+1}\")\n",
    "            else:\n",
    "                cqm.add_constraint(constraint_1 == 0, label=f\"constraint 1-{i+1}\")\n",
    "\n",
    "        # Define subtour elimination constraint\n",
    "        for i in range(n):\n",
    "            for j in range(n):\n",
    "                constraint_2 = X[i][j]\n",
    "                if constraint_2 == 0:\n",
    "                    pass\n",
    "                else:\n",
    "                    cqm.add_constraint(constraint_2>= 0, label=f\"constraint 2-{i+1}{j+1}\")\n",
    "\n",
    "        # Return the cqm\n",
    "        return cqm\n",
    "\n",
    "    def __call__(self,\n",
    "                 token: str) -> None:\n",
    "        \"\"\" Solves the ESP CQM.\n",
    "\n",
    "        Parameters\n",
    "        ----------\n",
    "        `token` (str):\n",
    "            The token for the solver.\n",
    "        \"\"\"\n",
    "        # Define the sampler\n",
    "        cqm_sampler = CQMBackend(token=token,\n",
    "                                 time=self.time_limit,\n",
    "                                 label='CQM-ESP')\n",
    "\n",
    "        # Run the sampler to get the sample set\n",
    "        sampleset = cqm_sampler(problem=self.cqm)\n",
    "\n",
    "        # If the log is active, print the constraints' data\n",
    "        if self.log:\n",
    "            # Printing the sample set\n",
    "            for c, cval in self.cqm.constraints.items():\n",
    "                print(c, cval)\n",
    "\n",
    "        # Filter the feasible samples\n",
    "        feasible_sampleset = sampleset.filter(lambda d: d.is_feasible)\n",
    "\n",
    "        # Get the first sample\n",
    "        sample = feasible_sampleset.first.sample\n",
    "\n",
    "        # If the log is active, print the sample\n",
    "        if self.log:\n",
    "            # Use `Formatter` for better readability\n",
    "            Formatter(width=1000).fprint(feasible_sampleset)\n",
    "\n",
    "            # Print the constraints' data\n",
    "            for constraint in self.cqm.iter_constraint_data(sample):\n",
    "                print(constraint.label, constraint.violation)\n",
    "\n",
    "            # Print the constraints' data\n",
    "            for c, v in self.cqm.constraints.items():\n",
    "                print('lhs : ' + str(v.lhs.energy(sample)))\n",
    "                print('rhs : ' + str(v.rhs))\n",
    "                print('sense  : ' + str(v.sense))\n",
    "                print(\"---\")\n",
    "\n",
    "        # Get the sample's solution\n",
    "        sample_solutions = [key for key, value in sample.items() if value == 1]\n",
    "\n",
    "        # If the log is active, print the sample's solution\n",
    "        if self.log:\n",
    "            print(sample_solutions)\n",
    "\n",
    "        def containsNumber(value) -> Iterable[int]:\n",
    "            \"\"\" Checks if value contains a number and\n",
    "            returns a Iterable of numbers in the value.\n",
    "\n",
    "            Parameters\n",
    "            ----------\n",
    "            `value` (str):\n",
    "                The string to check.\n",
    "\n",
    "            Returns\n",
    "            -------\n",
    "            `num_list` (Iterable[int]):\n",
    "                The list of numbers in the value.\n",
    "            \"\"\"\n",
    "            # Find the numbers from the string\n",
    "            return [(int(num)-1) for num in re.findall(r'\\d+', value)]\n",
    "\n",
    "        # Get the sample's coordinate sequence\n",
    "        sample_coordinate_sequence = [containsNumber(solution) for solution in sample_solutions]\n",
    "\n",
    "        # Update the graph\n",
    "        self.graph.set_edges(sample_coordinate_sequence)\n",
    "\n",
    "        # Plot the graph\n",
    "        self.graph.plot()"
   ]
  },
  {
   "cell_type": "code",
   "execution_count": 48,
   "metadata": {},
   "outputs": [
    {
     "data": {
      "image/png": "[encoded data removed]",
      "text/plain": [
       "<Figure size 1000x1000 with 1 Axes>"
      ]
     },
     "metadata": {},
     "output_type": "display_data"
    }
   ],
   "source": [
    "\n",
    "esp = QESP(coordinates, edges, 1, 4, 30, log=False)\n",
    "\n",
    "esp(token)"
   ]
  },
  {
   "cell_type": "markdown",
   "metadata": {},
   "source": [
    "## Final Thoughts\n",
    "\n",
    "In this notebook, we implemented a solver for finding the shortest path between two nodes given a series of edges. The solver requires $2N$ constraints, and thus can be rather efficient for intermediate-scale problems. In a future notebook, we will explore path finding using quantum computing in other approaches besides QUBO, i.e., Grover Search.\n",
    "\n",
    "<br>\n",
    "\n",
    "<p>© 2023 Amirali Malekani Nezhad, all rights reserved.</p>\n",
    "\n"
   ]
  }
 ],
 "metadata": {
  "interpreter": {
   "hash": "4cd7ab41f5fca4b9b44701077e38c5ffd31fe66a6cab21e0214b68d958d0e462"
  },
  "kernelspec": {
   "display_name": "Python 3.9.17 64-bit",
   "name": "python3"
  },
  "language_info": {
   "codemirror_mode": {
    "name": "ipython",
    "version": 3
   },
   "file_extension": ".py",
   "mimetype": "text/x-python",
   "name": "python",
   "nbconvert_exporter": "python",
   "pygments_lexer": "ipython3",
   "version": "3.12.1"
  },
  "orig_nbformat": 4
 },
 "nbformat": 4,
 "nbformat_minor": 2
}
